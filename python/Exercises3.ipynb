{
 "cells": [
  {
   "attachments": {},
   "cell_type": "markdown",
   "id": "d11517f7-d25e-4ddd-8cf5-95cf809e8bb5",
   "metadata": {},
   "source": [
    "### **Exercise1:**\n",
    "\n",
    "Create your own class for complex numbers, just like you would in c++. Make sure all the arithmetic operations work (yes, this is anz useless exercise to play with the syntax)."
   ]
  },
  {
   "cell_type": "code",
   "execution_count": 11,
   "id": "1f57ca6b",
   "metadata": {},
   "outputs": [
    {
     "name": "stdout",
     "output_type": "stream",
     "text": [
      "2 + 1i\n",
      "0 + -1i\n",
      "1 + 1i\n",
      "0.5 + -0.5i\n"
     ]
    }
   ],
   "source": [
    "class Complex:\n",
    "    def __init__(self, re = 0, im = 0):\n",
    "        self.re = re\n",
    "        self.im = im\n",
    "\n",
    "    def __add__(self, z):\n",
    "        res = Complex()\n",
    "        res.re = self.re + z.re\n",
    "        res.im = self.im + z.im\n",
    "        return res\n",
    "\n",
    "    def __sub__(self, z):\n",
    "        res = Complex()\n",
    "        res.re = self.re - z.re\n",
    "        res.im = self.im - z.im\n",
    "        return res\n",
    "\n",
    "    def __mul__(self, z):\n",
    "        res = Complex()\n",
    "        res.re = self.re * z.re - self.im * z.im\n",
    "        res.im = self.re * z.im + self.im * z.re\n",
    "        return res\n",
    "\n",
    "    def __truediv__(self, z):\n",
    "        res = Complex()\n",
    "        res.re = (self.re * z.re + self.im * z.im) / (z.re**2 + z.im**2)\n",
    "        res.im = (self.im * z.re - self.re * z.im) / (z.re**2 + z.im**2)\n",
    "        return res\n",
    "\n",
    "    def __str__(self):\n",
    "        return '{} + {}i'.format(self.re, self.im)\n",
    "\n",
    "z1 = Complex(1,0)\n",
    "z2 = Complex(1,1)\n",
    "print(z1 + z2)\n",
    "print(z1 - z2)\n",
    "print(z1 * z2)\n",
    "print(z1 / z2)\n",
    "\n"
   ]
  },
  {
   "cell_type": "code",
   "execution_count": 6,
   "id": "a11a0c0f",
   "metadata": {},
   "outputs": [
    {
     "name": "stdout",
     "output_type": "stream",
     "text": [
      "My name is John and I am 30 years old.\n"
     ]
    }
   ],
   "source": [
    "name = 'John'\n",
    "age = 30\n",
    "\n",
    "print(f'My name is {name} and I am {age} years old.')\n"
   ]
  },
  {
   "cell_type": "code",
   "execution_count": 7,
   "id": "10844fcf",
   "metadata": {},
   "outputs": [
    {
     "name": "stdout",
     "output_type": "stream",
     "text": [
      "My name is John and I am 30 years old.\n"
     ]
    }
   ],
   "source": [
    "name = 'John'\n",
    "age = 30\n",
    "\n",
    "print('My name is {} and I am {} years old.'.format(name, age))\n"
   ]
  },
  {
   "cell_type": "markdown",
   "id": "ea29074e-7dd7-48c6-bfd9-03860cffc268",
   "metadata": {},
   "source": [
    "### **Exercise2:**\n",
    "\n",
    "Rewrite your jacobi solution from the previous exerxise set with classes (you can follow the same layout as the c++ solution)."
   ]
  },
  {
   "cell_type": "markdown",
   "id": "a3f9dbca-8146-41ae-a859-792866cd4419",
   "metadata": {},
   "source": [
    "### **Exercise3:**\n",
    "\n",
    "Write a `cython` module with a function that solves the quadratic equation (you don't need to use classes here for now)"
   ]
  },
  {
   "cell_type": "markdown",
   "id": "00f9ee84-b578-4187-936a-225ddaef1f74",
   "metadata": {},
   "source": [
    "### **Exercise4:**\n",
    "\n",
    "Use `pibind` to call the c++ code for jacobi (from the the extra_exercises solutions) "
   ]
  },
  {
   "cell_type": "code",
   "execution_count": null,
   "id": "06510615-d3b2-45e7-83c5-92f32ed88332",
   "metadata": {},
   "outputs": [],
   "source": []
  }
 ],
 "metadata": {
  "kernelspec": {
   "display_name": "Python 3",
   "language": "python",
   "name": "python3"
  },
  "language_info": {
   "codemirror_mode": {
    "name": "ipython",
    "version": 3
   },
   "file_extension": ".py",
   "mimetype": "text/x-python",
   "name": "python",
   "nbconvert_exporter": "python",
   "pygments_lexer": "ipython3",
   "version": "3.11.1"
  },
  "vscode": {
   "interpreter": {
    "hash": "aee8b7b246df8f9039afb4144a1f6fd8d2ca17a180786b69acc140d282b71a49"
   }
  }
 },
 "nbformat": 4,
 "nbformat_minor": 5
}
