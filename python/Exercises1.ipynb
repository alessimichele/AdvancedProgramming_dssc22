{
 "cells": [
  {
   "attachments": {},
   "cell_type": "markdown",
   "metadata": {},
   "source": [
    "### **Exercise 1:**\n",
    "The Recamán sequence is a famous sequence invented by the Colombian mathematician, Bernardo Recamán Santos. It is defined by the following algorithm, starting at $a_0=0$:\n",
    "\n",
    "$ a_n=a_{n-1}−n$ if $a_{n-1}-n > 0  $ and has not already appeared in the sequence; \n",
    "\n",
    "$ a_n=a_{n−1}+n$ otherwise\n",
    "\n",
    "Write a function that returns the first N elements of this sequence."
   ]
  },
  {
   "cell_type": "code",
   "execution_count": 5,
   "metadata": {},
   "outputs": [
    {
     "data": {
      "text/plain": [
       "True"
      ]
     },
     "execution_count": 5,
     "metadata": {},
     "output_type": "execute_result"
    }
   ],
   "source": [
    "def recaman(N):\n",
    "    seq = [0]\n",
    "    if N==0:\n",
    "        pass\n",
    "    else:\n",
    "        i=1\n",
    "        while i<N+1:\n",
    "            if ((seq[i-1] - i > 0) and ((seq[i-1] - i) not in seq)):\n",
    "                seq.append(seq[i-1] - i)\n",
    "            else:\n",
    "                seq.append(seq[i-1] + i)\n",
    "            i = i+1    \n",
    "    return seq\n",
    "\n",
    "\n",
    "v = [0, 1, 3, 6, 2, 7, 13, 20, 12, 21, 11, 22, 10, 23, 9, 24, 8, 25, 43, 62, 42, 63, 41, 18, 42, 17, 43, 16, 44, 15, 45, 14, 46, 79, 113, 78, 114, 77, 39, 78, 38, 79, 37, 80, 36, 81, 35, 82, 34, 83, 33, 84, 32, 85, 31, 86, 30, 87, 29, 88, 28, 89, 27, 90, 26, 91, 157, 224, 156, 225, 155]\n",
    "recaman(70)==v"
   ]
  },
  {
   "cell_type": "code",
   "execution_count": 20,
   "metadata": {},
   "outputs": [
    {
     "data": {
      "text/plain": [
       "True"
      ]
     },
     "execution_count": 20,
     "metadata": {},
     "output_type": "execute_result"
    }
   ],
   "source": [
    "def recaman1(N):\n",
    "    seq = set()\n",
    "    final = list() # need this because set sort its element\n",
    "    if N==0:\n",
    "        seq.add(0)\n",
    "        final.append(0)\n",
    "    else:\n",
    "        a = 0\n",
    "        n = 0\n",
    "        while n<N:\n",
    "            diff = a - n\n",
    "            if (diff > 0) and (diff not in seq):\n",
    "                a = diff\n",
    "            else:\n",
    "                a = a + n\n",
    "            seq.add(a)\n",
    "            final.append(a)\n",
    "            n = n + 1    \n",
    "    return final\n",
    "\n",
    "recaman1(71)==v"
   ]
  },
  {
   "cell_type": "code",
   "execution_count": 10,
   "metadata": {},
   "outputs": [
    {
     "name": "stdout",
     "output_type": "stream",
     "text": [
      "169 ms ± 1.02 ms per loop (mean ± std. dev. of 7 runs, 10 loops each)\n"
     ]
    }
   ],
   "source": [
    "%%timeit\n",
    "recaman(10000)"
   ]
  },
  {
   "cell_type": "code",
   "execution_count": 11,
   "metadata": {},
   "outputs": [
    {
     "name": "stdout",
     "output_type": "stream",
     "text": [
      "653 µs ± 2.56 µs per loop (mean ± std. dev. of 7 runs, 1,000 loops each)\n"
     ]
    }
   ],
   "source": [
    "%%timeit\n",
    "recaman1(10000)"
   ]
  },
  {
   "cell_type": "markdown",
   "metadata": {},
   "source": [
    "### **Exercise 2:**\n",
    "Write a function to solve a quadratic equation."
   ]
  },
  {
   "cell_type": "code",
   "execution_count": 94,
   "metadata": {},
   "outputs": [
    {
     "data": {
      "text/plain": [
       "((-1.5+6.144102863722254j), (-1.5-6.144102863722254j))"
      ]
     },
     "execution_count": 94,
     "metadata": {},
     "output_type": "execute_result"
    }
   ],
   "source": [
    "import math as m\n",
    "def solve(a,b,c):\n",
    "    if a==0:\n",
    "        print(\"Not a quadratic equation\")\n",
    "        return\n",
    "    else:\n",
    "        delta = b**2 - 4*a*c\n",
    "        if delta>=0:\n",
    "            sol1 = (-b + m.sqrt(delta))/2*a\n",
    "            sol2 = (-b - m.sqrt(delta))/2*a\n",
    "        else:\n",
    "            sol1 = complex(-b/2*a, m.sqrt(-delta)/2*a)\n",
    "            sol2 = complex(-b/2*a, - m.sqrt(-delta)/2*a)\n",
    "    return sol1, sol2\n",
    "\n",
    "\n",
    "solve(1,3,40)"
   ]
  },
  {
   "cell_type": "markdown",
   "metadata": {},
   "source": [
    "### **Exercise 3**\n",
    "Print the list `mylist` sorted in descending order. The original list should not be modified\n"
   ]
  },
  {
   "cell_type": "code",
   "execution_count": 1,
   "metadata": {},
   "outputs": [],
   "source": [
    "mylist=[1,-99,89,0,234,77,-748,11]"
   ]
  },
  {
   "cell_type": "code",
   "execution_count": 130,
   "metadata": {},
   "outputs": [
    {
     "name": "stdout",
     "output_type": "stream",
     "text": [
      "[234, 89, 77, 11, 1, 0, -99, -748]\n",
      "[234, 89, 77, 11, 1, 0, -99, -748]\n",
      "[-748, -99, 0, 1, 11, 77, 89, 234]\n",
      "[1, -99, 89, 0, 234, 77, -748, 11]\n"
     ]
    }
   ],
   "source": [
    "print(sorted(mylist, reverse= True))\n",
    "print(sorted(mylist)[::-1])\n",
    "print(sorted(mylist))\n",
    "print(mylist)"
   ]
  },
  {
   "cell_type": "markdown",
   "metadata": {},
   "source": [
    "### **Exercise 4:**\n",
    "Given 2 lists, produce a list containing common items between the two."
   ]
  },
  {
   "cell_type": "code",
   "execution_count": 115,
   "metadata": {},
   "outputs": [
    {
     "name": "stdout",
     "output_type": "stream",
     "text": [
      "[3, 4, 'c']\n"
     ]
    }
   ],
   "source": [
    "list1 = [1,3,4,'c']\n",
    "list2 = [3,4,5,'re','c']\n",
    "list3 = [x for x in list1 if x in list2]\n",
    "print(list3)"
   ]
  },
  {
   "cell_type": "markdown",
   "metadata": {},
   "source": [
    "### **Exercise 5:**\n",
    "Create a function that returns a list of all pairs of factors (as tuples) of a given number using list comprehension."
   ]
  },
  {
   "cell_type": "code",
   "execution_count": 9,
   "metadata": {},
   "outputs": [
    {
     "data": {
      "text/plain": [
       "[(1, 10000),\n",
       " (2, 5000),\n",
       " (4, 2500),\n",
       " (5, 2000),\n",
       " (8, 1250),\n",
       " (10, 1000),\n",
       " (16, 625),\n",
       " (20, 500),\n",
       " (25, 400),\n",
       " (40, 250),\n",
       " (50, 200),\n",
       " (80, 125),\n",
       " (100, 100)]"
      ]
     },
     "execution_count": 9,
     "metadata": {},
     "output_type": "execute_result"
    }
   ],
   "source": [
    "def fun(n):\n",
    "    return [(x,y) for x in range(n+1) for y in range(n+1) if x*y == n ]\n",
    "\n",
    "def fun1(n):\n",
    "    return [(x,int(n/x)) for x in range(1,int(n**0.5)+1) if n%x==0]\n",
    "\n",
    "fun1(10000)"
   ]
  },
  {
   "cell_type": "markdown",
   "metadata": {},
   "source": [
    "### **Exercise 6:**\n",
    "Create a list of all numbers divisible by 3 and smaller than 1000 in 4 different ways:\n",
    " \n",
    " - naive way where you just create a list and append data in a loop\n",
    " - using list comprehension\n",
    " - slicing an existing list\n",
    " - directly with `range()`\n",
    "\n",
    "Time all of them."
   ]
  },
  {
   "cell_type": "code",
   "execution_count": 11,
   "metadata": {},
   "outputs": [
    {
     "name": "stdout",
     "output_type": "stream",
     "text": [
      "35.9 µs ± 131 ns per loop (mean ± std. dev. of 7 runs, 10,000 loops each)\n"
     ]
    }
   ],
   "source": [
    "%%timeit\n",
    "# first\n",
    "list1 = []\n",
    "for i in range(1000):\n",
    "    if i%3 == 0:\n",
    "        list1.append(i)\n",
    "#print(list1)"
   ]
  },
  {
   "cell_type": "code",
   "execution_count": 12,
   "metadata": {},
   "outputs": [
    {
     "name": "stdout",
     "output_type": "stream",
     "text": [
      "33.1 µs ± 105 ns per loop (mean ± std. dev. of 7 runs, 10,000 loops each)\n"
     ]
    }
   ],
   "source": [
    "%%timeit\n",
    "# second\n",
    "list2 = [x for x in range(1000) if x%3 == 0]\n",
    "#print(list2)"
   ]
  },
  {
   "cell_type": "code",
   "execution_count": 15,
   "metadata": {},
   "outputs": [
    {
     "name": "stdout",
     "output_type": "stream",
     "text": [
      "17 µs ± 65.1 ns per loop (mean ± std. dev. of 7 runs, 100,000 loops each)\n"
     ]
    }
   ],
   "source": [
    "%%timeit\n",
    "# third\n",
    "#list3 = list(range(1000))[::3] # analogo\n",
    "list3 = [x for x in range(1000)][::3]\n",
    "#print(list3)"
   ]
  },
  {
   "cell_type": "code",
   "execution_count": 14,
   "metadata": {},
   "outputs": [
    {
     "name": "stdout",
     "output_type": "stream",
     "text": [
      "3.19 µs ± 22.2 ns per loop (mean ± std. dev. of 7 runs, 100,000 loops each)\n"
     ]
    }
   ],
   "source": [
    "%%timeit\n",
    "# fourth\n",
    "list4 = list(range(0, 1000, 3))\n",
    "#print(list4)"
   ]
  },
  {
   "cell_type": "markdown",
   "metadata": {},
   "source": [
    "### **Exercise 7:**\n",
    "Write a function to check if a string (containing spaces and capital letters, but no punctuation marks) is a palindrome (use help to see which functions are available for a string). \n"
   ]
  },
  {
   "cell_type": "code",
   "execution_count": 107,
   "metadata": {},
   "outputs": [
    {
     "name": "stdout",
     "output_type": "stream",
     "text": [
      "True\n",
      "Palindrome\n"
     ]
    }
   ],
   "source": [
    "str=\"I topi non avevano nipoti\"\n",
    "\n",
    "def palindrom(string):\n",
    "    string = string.replace(\" \",\"\")\n",
    "    string = string.lower()\n",
    "    i = 0\n",
    "    j = len(string) - 1\n",
    "    while i<j:\n",
    "        if string[i] != string[j]:\n",
    "            print(\"Not palindrome\")\n",
    "            return\n",
    "        i = i+1\n",
    "        j = j-1\n",
    "    print(\"Palindrome\")\n",
    "    return\n",
    "\n",
    "def checkPalindrome(s):\n",
    "    s=\"\".join(s.split())\n",
    "    s=s.lower()\n",
    "    print(s == s[::-1])\n",
    "    return\n",
    "\n",
    "checkPalindrome(\"Ciao o oaic\")\n",
    "palindrom(\"Ciao o oaic\")\n"
   ]
  },
  {
   "cell_type": "markdown",
   "metadata": {},
   "source": [
    "### **Exercise 8:**\n",
    "Write a function to find a character with a maximum number of occurences in a string. Return a tuple with that character and the number. You can ignore ties. Only use string's inbuilt functions and the function `max` (use help to see how to use it)."
   ]
  },
  {
   "cell_type": "code",
   "execution_count": 109,
   "metadata": {},
   "outputs": [
    {
     "data": {
      "text/plain": [
       "('o', 8)"
      ]
     },
     "execution_count": 109,
     "metadata": {},
     "output_type": "execute_result"
    }
   ],
   "source": [
    "def max_occ(str):\n",
    "    str = str.lower()\n",
    "    str = str.replace(\" \", \"\")\n",
    "    max = 0\n",
    "    max_lett = ''\n",
    "    for i in range(len(list(set(str)))):\n",
    "        tmp = str.count(list(set(str))[i])\n",
    "        if tmp > max:\n",
    "            max = tmp\n",
    "            max_lett = list(set(str))[i]\n",
    "    return (max_lett, max)\n",
    "\n",
    "max_occ(\"jkjkj hihjkhkjh apwooiew oooolqpipoioqe\")"
   ]
  },
  {
   "cell_type": "code",
   "execution_count": 110,
   "metadata": {},
   "outputs": [
    {
     "name": "stdout",
     "output_type": "stream",
     "text": [
      "('o', 8)\n"
     ]
    }
   ],
   "source": [
    "def find_max_occ(s):\n",
    "    return max([(i, s.count(i)) for i in set(s.lower())], key=lambda x: x[1])\n",
    "print(find_max_occ(\"jkjkj hihjkhkjh apwooiew oooolqpipoioqe\"))"
   ]
  },
  {
   "cell_type": "markdown",
   "metadata": {},
   "source": [
    "### **Exercise 9:**\n",
    "Write a function that return the first N prime numbers using the Sieve of Eratosphenes algorithm\n",
    "\n",
    "https://en.wikipedia.org/wiki/Sieve_of_Eratosthenes"
   ]
  },
  {
   "cell_type": "code",
   "execution_count": null,
   "metadata": {},
   "outputs": [],
   "source": [
    "def find_prime(N):\n",
    "    number = list(range(2,N+1))\n",
    "    p = 2\n",
    "    \n",
    "    while min(number) :\n",
    "        k=2\n",
    "        while k*p < N:\n",
    "            number.remove(k*p)\n",
    "            k = k+1\n",
    "    p = min(number)"
   ]
  }
 ],
 "metadata": {
  "kernelspec": {
   "display_name": "Python 3",
   "language": "python",
   "name": "python3"
  },
  "language_info": {
   "codemirror_mode": {
    "name": "ipython",
    "version": 3
   },
   "file_extension": ".py",
   "mimetype": "text/x-python",
   "name": "python",
   "nbconvert_exporter": "python",
   "pygments_lexer": "ipython3",
   "version": "3.11.1"
  },
  "vscode": {
   "interpreter": {
    "hash": "aee8b7b246df8f9039afb4144a1f6fd8d2ca17a180786b69acc140d282b71a49"
   }
  }
 },
 "nbformat": 4,
 "nbformat_minor": 4
}
