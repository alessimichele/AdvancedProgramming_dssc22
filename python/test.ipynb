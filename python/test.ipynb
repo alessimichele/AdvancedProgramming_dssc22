{
 "cells": [
  {
   "cell_type": "code",
   "execution_count": 7,
   "metadata": {},
   "outputs": [
    {
     "data": {
      "image/png": "[encoded data removed]",
      "text/plain": [
       "<Figure size 640x480 with 1 Axes>"
      ]
     },
     "metadata": {},
     "output_type": "display_data"
    }
   ],
   "source": [
    "from matplotlib import pyplot as plt\n",
    "import numpy as np \n",
    "import matplotlib.animation as animation\n",
    "\n",
    "#run this file with `python3 game_life.py` from command line\n",
    "def find_neigh(i,j,n,m):\n",
    "    # i is row index in the grid\n",
    "    # j is col index in the grid\n",
    "    # n is col size in the grid\n",
    "    # m is row index in the grid\n",
    "    if i>=n or j>=m:\n",
    "        print(\"error\")\n",
    "        return\n",
    "    else:\n",
    "        if i > 0 and i < n-1 and j > 0 and j < m-1:\n",
    "            return list([[i+1,j+1],[i+1,j],[i+1,j-1],[i,j-1],[i-1,j-1],[i-1,j],[i-1,j+1],[i,j+1]])\n",
    "        elif i == 0 and j == 0:\n",
    "            return [[i+1,j],[i+1,j+1],[i,j+1]]\n",
    "        elif i == 0 and j == m-1:\n",
    "            return [[i+1,j],[i+1,j-1],[i,j-1]]\n",
    "        elif (i == n-1) and (j == m-1):\n",
    "            return [[i-1,j],[i-1,j-1],[i,j-1]]\n",
    "        elif i == n-1 and j == 0:\n",
    "            return [[i-1,j],[i-1,j+1],[i,j+1]]\n",
    "        elif i == 0 :\n",
    "            return [[i,j+1],[i+1,j+1],[i+1,j],[i+1,j-1],[i,j-1]]\n",
    "        elif j == m-1:\n",
    "            return [[i+1,j],[i+1,j-1],[i,j-1],[i-1,j-1],[i-1,j]]\n",
    "        elif i == n-1:\n",
    "            return [[i,j+1],[i-1,j+1],[i-1,j],[i-1,j-1],[i,j-1]]\n",
    "        elif j == 0:\n",
    "            return [[i+1,j],[i+1,j+1],[i,j+1],[i-1,j+1],[i-1,j]]\n",
    "\n",
    "\n",
    "def next_iteration(current_state, max):\n",
    "    n = int(np.shape(current_state)[0])\n",
    "    m = int(np.shape(current_state)[1])\n",
    "    k=0\n",
    "    while np.sum(current_state) != 0 and k<max:\n",
    "        k += 1\n",
    "        next_state = current_state.copy()\n",
    "        for i in range(n):\n",
    "            for j in range(m):\n",
    "                neigh = find_neigh(i,j,n,m)\n",
    "                count = 0\n",
    "                for ne in neigh:\n",
    "                    k = ne[0]\n",
    "                    h = ne[1]\n",
    "                    if current_state[k,h] == 1: # se è vivo\n",
    "                        count = count + 1\n",
    "                if current_state[i,j] == 1:\n",
    "                    if (count<2) or (count>3):\n",
    "                        next_state[i,j] = 0\n",
    "                else:\n",
    "                    if count == 3:\n",
    "                        next_state[i,j] = 1\n",
    "        current_state = next_state\n",
    "        plt.imshow(current_state)\n",
    "        #plt.imshow(np.array([current_state[i, :] for i in range(current_state.shape[1])]))\n",
    "\n",
    "\n",
    "fig=plt.figure()\n",
    "current_state = np.array([[1,0,0],[0,0,1],[1,1,0]])\n",
    "next_iteration(current_state,10)"
   ]
  },
  {
   "cell_type": "code",
   "execution_count": null,
   "metadata": {},
   "outputs": [],
   "source": []
  },
  {
   "cell_type": "code",
   "execution_count": null,
   "metadata": {},
   "outputs": [],
   "source": []
  }
 ],
 "metadata": {
  "kernelspec": {
   "display_name": "Python 3",
   "language": "python",
   "name": "python3"
  },
  "language_info": {
   "codemirror_mode": {
    "name": "ipython",
    "version": 3
   },
   "file_extension": ".py",
   "mimetype": "text/x-python",
   "name": "python",
   "nbconvert_exporter": "python",
   "pygments_lexer": "ipython3",
   "version": "3.11.1"
  },
  "orig_nbformat": 4,
  "vscode": {
   "interpreter": {
    "hash": "aee8b7b246df8f9039afb4144a1f6fd8d2ca17a180786b69acc140d282b71a49"
   }
  }
 },
 "nbformat": 4,
 "nbformat_minor": 2
}
